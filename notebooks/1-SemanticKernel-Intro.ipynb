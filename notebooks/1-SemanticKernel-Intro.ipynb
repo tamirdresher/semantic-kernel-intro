{
 "cells": [
  {
   "attachments": {},
   "cell_type": "markdown",
   "metadata": {},
   "source": [
    "Semantic Kernel"
   ]
  },
  {
   "cell_type": "code",
   "execution_count": 1,
   "metadata": {
    "dotnet_interactive": {
     "language": "csharp"
    },
    "polyglot_notebook": {
     "kernelName": "csharp"
    },
    "vscode": {
     "languageId": "polyglot-notebook"
    }
   },
   "outputs": [],
   "source": [
    "// Load some helper functions, e.g. to load values from settings.json\n",
    "#!import config/Settings.cs \n",
    "var (useAzureOpenAI, model, azureEndpoint, apiKey, orgId, embeddingEndpoint, embeddingApiKey) = Settings.LoadFromFile();\n",
    "\n"
   ]
  },
  {
   "cell_type": "code",
   "execution_count": 2,
   "metadata": {
    "dotnet_interactive": {
     "language": "csharp"
    },
    "polyglot_notebook": {
     "kernelName": "csharp"
    },
    "vscode": {
     "languageId": "polyglot-notebook"
    }
   },
   "outputs": [
    {
     "data": {
      "text/html": [
       "<div><div></div><div></div><div><strong>Installed Packages</strong><ul><li><span>Microsoft.SemanticKernel, 1.33.0</span></li></ul></div></div>"
      ]
     },
     "metadata": {},
     "output_type": "display_data"
    }
   ],
   "source": [
    "// Import Semantic Kernel\n",
    "#r \"nuget: Microsoft.SemanticKernel, 1.33.0\""
   ]
  },
  {
   "cell_type": "code",
   "execution_count": 4,
   "metadata": {
    "dotnet_interactive": {
     "language": "csharp"
    },
    "polyglot_notebook": {
     "kernelName": "csharp"
    },
    "vscode": {
     "languageId": "polyglot-notebook"
    }
   },
   "outputs": [],
   "source": [
    "using Microsoft.SemanticKernel;\n",
    "using Kernel = Microsoft.SemanticKernel.Kernel;\n",
    "\n",
    "IKernelBuilder kernelBuilder = Kernel.CreateBuilder();\n",
    "kernelBuilder.AddAzureOpenAIChatCompletion(model, azureEndpoint, apiKey);\n",
    "\n",
    "var kernel = kernelBuilder.Build();"
   ]
  },
  {
   "cell_type": "code",
   "execution_count": null,
   "metadata": {
    "vscode": {
     "languageId": "polyglot-notebook"
    }
   },
   "outputs": [
    {
     "name": "stdout",
     "output_type": "stream",
     "text": [
      "To find the Kubernetes pod that consumes the most resources (CPU and memory), you can use commands and utilities like `kubectl`, `kubectl top`, or monitoring tools such as Prometheus and Grafana. Below are a few approaches you can use to identify the pod consuming the most resources:\n",
      "\n",
      "---\n",
      "\n",
      "## **1. Using `kubectl top` Command**\n",
      "The `kubectl top` command provides resource utilization for Kubernetes nodes and pods. It's part of the Kubernetes metrics-server addon, so you need to ensure that the metrics-server is installed and running in your cluster.\n",
      "\n",
      "### Steps:\n",
      "1. First, ensure the metrics-server is deployed. Run:\n",
      "   ```bash\n",
      "   kubectl get deployment metrics-server -n kube-system\n",
      "   ```\n",
      "   If it's not installed, you can install it (refer to the [metrics-server documentation](https://github.com/kubernetes-sigs/metrics-server) for installation steps).\n",
      "\n",
      "2. Use the `kubectl top pods` command:\n",
      "   ```bash\n",
      "   kubectl top pods --all-namespaces\n",
      "   ```\n",
      "   Example output:\n",
      "   ```\n",
      "   NAMESPACE     NAME                                      CPU(cores)   MEMORY(bytes)\n",
      "   default       my-app-1-2345abcd                         50m          100Mi\n",
      "   kube-system   metrics-server-fd8d9f78c-7prqp           10m          40Mi\n",
      "   default       my-app-2-5678ghij                         500m         1000Mi\n",
      "   ```\n",
      "   In this example, `my-app-2-5678ghij` is the pod consuming the most CPU (500m) and memory (1000Mi).\n",
      "\n",
      "3. To sort and find the highest resource usage, you can use the following commands:\n",
      "   - Sort by CPU utilization:\n",
      "     ```bash\n",
      "     kubectl top pods --all-namespaces --no-headers | sort -k3 -nr | head -n 1\n",
      "     ```\n",
      "   - Sort by memory utilization:\n",
      "     ```bash\n",
      "     kubectl top pods --all-namespaces --no-headers | sort -k4 -nr | head -n 1\n",
      "     ```\n",
      "\n",
      "---\n",
      "\n",
      "## **2. Checking Pod Resource Requests and Limits**\n",
      "If you're interested in the resource **requests/limits** defined for pods (instead of live usage), you can describe the pod or list the resources.\n",
      "\n",
      "1. Get resource requests and limits for all pods:\n",
      "   ```bash\n",
      "   kubectl get pods --all-namespaces -o=jsonpath='{range .items[*]}{.metadata.namespace}{\" \"}{.metadata.name}{\" CPU: \"}{.spec.containers[*].resources.requests.cpu}{\" Mem: \"}{.spec.containers[*].resources.requests.memory}{\"\\n\"}{end}' | sort -k3 -nr\n",
      "   ```\n",
      "\n",
      "2. To view resource requests and limits for a specific namespace:\n",
      "   ```bash\n",
      "   kubectl get pods -n <namespace> -o=jsonpath='{range .items[*]}{.metadata.name}{\" CPU: \"}{.spec.containers[*].resources.requests.cpu}{\" Mem: \"}{.spec.containers[*].resources.requests.memory}{\"\\n\"}{end}'\n",
      "   ```\n",
      "\n",
      "---\n",
      "\n",
      "## **3. Using Monitoring Tools**\n",
      "If you have a larger, production-grade cluster, tools like **Prometheus**, **Grafana**, or cloud monitoring services (e.g., AWS CloudWatch, GCP Operations) can give you detailed insights into resource usage.\n",
      "\n",
      "- Use Prometheus queries (PromQL) to filter and sort pods by resource consumption. Example:\n",
      "  - **CPU Query**:\n",
      "    ```promql\n",
      "    sum(rate(container_cpu_usage_seconds_total{pod!=\"\",namespace!=\"kube-system\"}[5m])) by (namespace, pod) | topk(1, sum by (pod) (rate(container_cpu_usage_seconds_total[1m])))\n",
      "    ```\n",
      "  - **Memory Query**:\n",
      "    ```promql\n",
      "    sum(container_memory_usage_bytes{pod!=\"\",namespace!=\"kube-system\"}) by (namespace, pod) | topk(1, sum by (pod) (container_memory_usage_bytes))\n",
      "    ```\n",
      "\n",
      "- Similarly, you can use Grafana dashboards to visualize and filter resource utilization by pod.\n",
      "\n",
      "---\n",
      "\n",
      "## **4. Optionally Write a Script**\n",
      "If you need something repeatable and automated, you can create a shell script that uses `kubectl top` to extract and sort the data.\n",
      "\n",
      "Example script:\n",
      "```bash\n",
      "#!/bin/bash\n",
      "echo \"Top CPU-consuming pod:\"\n",
      "kubectl top pods --all-namespaces --no-headers | sort -k3 -nr | head -n 1\n",
      "\n",
      "echo \"Top Memory-consuming pod:\"\n",
      "kubectl top pods --all-namespaces --no-headers | sort -k4 -nr | head -n 1\n",
      "```\n",
      "Save this script as `top-consumers.sh`, make it executable, and run it:\n",
      "```bash\n",
      "chmod +x top-consumers.sh\n",
      "./top-consumers.sh\n",
      "```\n",
      "\n",
      "---\n",
      "\n",
      "By using the above methods, you should be able to determine the pod(s) consuming the most resources in your Kubernetes cluster.\r\n"
     ]
    }
   ],
   "source": [
    "var result = await kernel.InvokePromptAsync(\"how do i get the k8s pod that consume the most resources\");\n",
    "\n",
    "Console.WriteLine(result);"
   ]
  },
  {
   "cell_type": "code",
   "execution_count": null,
   "metadata": {
    "vscode": {
     "languageId": "polyglot-notebook"
    }
   },
   "outputs": [],
   "source": [
    "string skPrompt = @\"\n",
    "{{$input}}\n",
    "\n",
    "Give me the TLDR in 5 words.\n",
    "\";\n",
    "\n",
    "var textToSummarize = @\"\n",
    "    1) A robot may not injure a human being or, through inaction,\n",
    "    allow a human being to come to harm.\n",
    "\n",
    "    2) A robot must obey orders given it by human beings except where\n",
    "    such orders would conflict with the First Law.\n",
    "\n",
    "    3) A robot must protect its own existence as long as such protection\n",
    "    does not conflict with the First or Second Law.\n",
    "\";\n",
    "\n",
    "var result = await kernel.InvokePromptAsync(skPrompt, new() { [\"input\"] = textToSummarize });\n",
    "\n",
    "Console.WriteLine(result);"
   ]
  }
 ],
 "metadata": {
  "kernelspec": {
   "display_name": ".NET (C#)",
   "language": "C#",
   "name": ".net-csharp"
  },
  "language_info": {
   "file_extension": ".cs",
   "mimetype": "text/x-csharp",
   "name": "C#",
   "pygments_lexer": "csharp",
   "version": "11.0"
  },
  "polyglot_notebook": {
   "kernelInfo": {
    "defaultKernelName": "csharp",
    "items": [
     {
      "aliases": [],
      "name": "csharp"
     }
    ]
   }
  }
 },
 "nbformat": 4,
 "nbformat_minor": 2
}
