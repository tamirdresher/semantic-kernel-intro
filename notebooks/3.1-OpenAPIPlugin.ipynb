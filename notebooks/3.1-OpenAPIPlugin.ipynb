{
 "cells": [
  {
   "cell_type": "code",
   "execution_count": 32,
   "metadata": {
    "vscode": {
     "languageId": "polyglot-notebook"
    }
   },
   "outputs": [
    {
     "data": {
      "text/html": [
       "<div><div></div><div></div><div><strong>Installed Packages</strong><ul><li><span>Microsoft.SemanticKernel, 1.33.0</span></li></ul></div></div>"
      ]
     },
     "metadata": {},
     "output_type": "display_data"
    }
   ],
   "source": [
    "#r \"nuget: Microsoft.SemanticKernel, 1.33.0\"\n",
    "\n",
    "#!import config/Settings.cs\n",
    "\n",
    "using Microsoft.SemanticKernel;\n",
    "using Kernel = Microsoft.SemanticKernel.Kernel;\n",
    "\n",
    "var builder = Kernel.CreateBuilder();\n",
    "\n",
    "var (useAzureOpenAI, model, azureEndpoint, apiKey, orgId, embeddingEndpoint, embeddingApiKey) = Settings.LoadFromFile();\n",
    "\n",
    "builder.AddAzureOpenAIChatCompletion(model, azureEndpoint, apiKey);\n",
    "var kernel = builder.Build();"
   ]
  },
  {
   "cell_type": "code",
   "execution_count": 33,
   "metadata": {
    "vscode": {
     "languageId": "polyglot-notebook"
    }
   },
   "outputs": [
    {
     "data": {
      "text/html": [
       "<div><div></div><div></div><div><strong>Installed Packages</strong><ul><li><span>azure.core, 1.44.1</span></li><li><span>Azure.Identity, 1.13.1</span></li></ul></div></div>"
      ]
     },
     "metadata": {},
     "output_type": "display_data"
    }
   ],
   "source": [
    "#r \"nuget: Azure.Identity, 1.13.1\"\n",
    "#r \"nuget: Azure.Core, 1.44.1\"\n",
    "\n"
   ]
  },
  {
   "cell_type": "code",
   "execution_count": 34,
   "metadata": {
    "vscode": {
     "languageId": "polyglot-notebook"
    }
   },
   "outputs": [],
   "source": [
    "using Azure.Core;\n",
    "using Azure.Identity;\n",
    "\n",
    "TokenCredential tokenCredential =\n",
    "    new ChainedTokenCredential(\n",
    "        new AzureCliCredential(),\n",
    "        new VisualStudioCredential(),\n",
    "        new DefaultAzureCredential(\n",
    "            new DefaultAzureCredentialOptions()));"
   ]
  },
  {
   "cell_type": "code",
   "execution_count": 35,
   "metadata": {
    "vscode": {
     "languageId": "polyglot-notebook"
    }
   },
   "outputs": [],
   "source": [
    "var tokenRequestContext = new TokenRequestContext([\"499b84ac-1321-427f-aa17-267ca6975798/.default\"], parentRequestId: null);\n",
    "var accesstoken = await tokenCredential.GetTokenAsync(tokenRequestContext, System.Threading.CancellationToken.None);"
   ]
  },
  {
   "cell_type": "code",
   "execution_count": 36,
   "metadata": {
    "vscode": {
     "languageId": "polyglot-notebook"
    }
   },
   "outputs": [
    {
     "data": {
      "text/html": [
       "<div><div></div><div></div><div><strong>Installed Packages</strong><ul><li><span>Microsoft.SemanticKernel.Plugins.OpenApi.Extensions, 1.33.0-alpha</span></li></ul></div></div>"
      ]
     },
     "metadata": {},
     "output_type": "display_data"
    }
   ],
   "source": [
    "#r \"nuget: Microsoft.SemanticKernel.Plugins.OpenApi.Extensions, 1.33.0-alpha\""
   ]
  },
  {
   "cell_type": "code",
   "execution_count": 37,
   "metadata": {
    "vscode": {
     "languageId": "polyglot-notebook"
    }
   },
   "outputs": [],
   "source": [
    "using Microsoft.SemanticKernel.Plugins.OpenApi;\n",
    "using System.Net.Http.Headers;\n",
    "#pragma warning disable SKEXP0040\n",
    "\n",
    "KernelPlugin plugin = await OpenApiKernelPluginFactory.CreateFromOpenApiAsync(\n",
    "    pluginName: \"ADOPipelines\",     \n",
    "    filePath: \"ado_pipelines_openapi.json\",\n",
    "    new OpenApiFunctionExecutionParameters()\n",
    "    {\n",
    "        ServerUrlOverride = new Uri(\"https://dev.azure.com/\"),\n",
    "        AuthCallback = (request, token) =>\n",
    "        {\n",
    "            request.Headers.Authorization = new AuthenticationHeaderValue(\"Bearer\", accesstoken.Token);\n",
    "            Console.WriteLine($\"Requesting {request.RequestUri} \");\n",
    "            return Task.CompletedTask;\n",
    "        } \n",
    "    }\n",
    ");\n",
    "kernel.Plugins.Add(plugin);"
   ]
  },
  {
   "cell_type": "code",
   "execution_count": 38,
   "metadata": {
    "vscode": {
     "languageId": "polyglot-notebook"
    }
   },
   "outputs": [
    {
     "name": "stdout",
     "output_type": "stream",
     "text": [
      "Requesting https://dev.azure.com/MY_ORGANIZATION/MY_PROJECT/_apis/pipelines?$top=3&api-version=7.0 \n",
      "Here are the first 3 pipeline names in your organization \"MY_ORGANIZATION\" under the project \"MY_PROJECT\":\n",
      "\n",
      "1. **(Deprecated) MD.Infra.System.ContainerImages.ACRTransfer.Retail**\n",
      "2. **[Buddy]Mgmt.TenantMigrationJob.replication**\n",
      "3. **[delete] InE.UnifiedPolicyConsumerService.Gated.Retail**\n"
     ]
    }
   ],
   "source": [
    "PromptExecutionSettings settings = new() { FunctionChoiceBehavior = FunctionChoiceBehavior.Auto() };\n",
    "var result = await kernel.InvokePromptAsync(\"give me the 3 first names of my ADO pipelines in my organization MY_ORGANIZATION in project MY_PROJECT api version 7.0\", new(settings));\n",
    "Console.WriteLine(result);"
   ]
  }
 ],
 "metadata": {
  "kernelspec": {
   "display_name": ".NET (C#)",
   "language": "C#",
   "name": ".net-csharp"
  },
  "language_info": {
   "name": "python"
  },
  "polyglot_notebook": {
   "kernelInfo": {
    "defaultKernelName": "csharp",
    "items": [
     {
      "aliases": [],
      "name": "csharp"
     }
    ]
   }
  }
 },
 "nbformat": 4,
 "nbformat_minor": 2
}
