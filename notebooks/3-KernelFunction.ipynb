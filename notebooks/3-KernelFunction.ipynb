{
 "cells": [
  {
   "cell_type": "code",
   "execution_count": 9,
   "metadata": {
    "dotnet_interactive": {
     "language": "csharp"
    },
    "polyglot_notebook": {
     "kernelName": "csharp"
    },
    "vscode": {
     "languageId": "polyglot-notebook"
    }
   },
   "outputs": [
    {
     "data": {
      "text/html": [
       "<div><div></div><div></div><div><strong>Installed Packages</strong><ul><li><span>Microsoft.SemanticKernel, 1.33.0</span></li></ul></div></div>"
      ]
     },
     "metadata": {},
     "output_type": "display_data"
    }
   ],
   "source": [
    "#r \"nuget: Microsoft.SemanticKernel, 1.33.0\"\n",
    "\n",
    "#!import config/Settings.cs\n",
    "\n",
    "using Microsoft.SemanticKernel;\n",
    "using Kernel = Microsoft.SemanticKernel.Kernel;\n",
    "\n",
    "var builder = Kernel.CreateBuilder();\n",
    "\n",
    "var (useAzureOpenAI, model, azureEndpoint, apiKey, orgId, embeddingEndpoint, embeddingApiKey) = Settings.LoadFromFile();\n",
    "\n",
    "builder.AddAzureOpenAIChatCompletion(model, azureEndpoint, apiKey);\n",
    "var kernel = builder.Build();"
   ]
  },
  {
   "cell_type": "code",
   "execution_count": 10,
   "metadata": {
    "vscode": {
     "languageId": "polyglot-notebook"
    }
   },
   "outputs": [],
   "source": [
    "using System.ComponentModel;\n",
    "class KuberenetesSkills\n",
    "{\n",
    "    [Description(\"Runs kubectl commands, just provide the arguments to the kubectl and it will run it and return the result as string\")]\n",
    "    [KernelFunction()]\n",
    "    public async Task<string> RunKubectl(string kubectlArguements)\n",
    "    {\n",
    "        Console.WriteLine($\"{kubectlArguements}\");\n",
    "        return \"Not implemented\";\n",
    "    }\n",
    "}"
   ]
  },
  {
   "cell_type": "code",
   "execution_count": 11,
   "metadata": {
    "vscode": {
     "languageId": "polyglot-notebook"
    }
   },
   "outputs": [],
   "source": [
    "kernel.Plugins.AddFromType<KuberenetesSkills>();"
   ]
  },
  {
   "cell_type": "code",
   "execution_count": 12,
   "metadata": {
    "vscode": {
     "languageId": "polyglot-notebook"
    }
   },
   "outputs": [
    {
     "name": "stdout",
     "output_type": "stream",
     "text": [
      "run my-new-pod --image=myimage_name:latest\n",
      "It seems like the action to run a new pod in the Kubernetes cluster is not implemented directly. You might need access to the Kubernetes control plane or CLI tool to execute this.\n",
      "\n",
      "If you need help with the specific `kubectl` command to run directly in your environment, it would look like this on your terminal:\n",
      "\n",
      "```bash\n",
      "kubectl run my-new-pod --image=myimage_name:latest\n",
      "```\n",
      "\n",
      "This will deploy a new pod in your cluster. Let me know if you need further assistance!\n"
     ]
    }
   ],
   "source": [
    "PromptExecutionSettings settings = new() { FunctionChoiceBehavior = FunctionChoiceBehavior.Auto() };\n",
    "var result = await kernel.InvokePromptAsync(\"run a new pod in my k8s cluster from image 'myimage_name:latest'\", new(settings));\n",
    "Console.WriteLine(result);"
   ]
  }
 ],
 "metadata": {
  "kernelspec": {
   "display_name": ".NET (C#)",
   "language": "C#",
   "name": ".net-csharp"
  },
  "language_info": {
   "name": "python"
  },
  "polyglot_notebook": {
   "kernelInfo": {
    "defaultKernelName": "csharp",
    "items": [
     {
      "aliases": [],
      "name": "csharp"
     }
    ]
   }
  }
 },
 "nbformat": 4,
 "nbformat_minor": 2
}
