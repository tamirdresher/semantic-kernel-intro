{
 "cells": [
  {
   "cell_type": "code",
   "execution_count": 23,
   "metadata": {
    "dotnet_interactive": {
     "language": "csharp"
    },
    "polyglot_notebook": {
     "kernelName": "csharp"
    },
    "vscode": {
     "languageId": "polyglot-notebook"
    }
   },
   "outputs": [
    {
     "data": {
      "text/html": [
       "<div><div></div><div></div><div><strong>Installed Packages</strong><ul><li><span>Microsoft.SemanticKernel, 1.33.0</span></li></ul></div></div>"
      ]
     },
     "metadata": {},
     "output_type": "display_data"
    }
   ],
   "source": [
    "#r \"nuget: Microsoft.SemanticKernel, 1.33.0\"\n",
    "\n",
    "#!import config/Settings.cs\n",
    "\n",
    "using Microsoft.SemanticKernel;\n",
    "using Kernel = Microsoft.SemanticKernel.Kernel;\n",
    "\n",
    "var builder = Kernel.CreateBuilder();\n",
    "\n",
    "var (useAzureOpenAI, model, azureEndpoint, apiKey, orgId, embeddingEndpoint, embeddingApiKey) = Settings.LoadFromFile();\n",
    "\n",
    "builder.AddAzureOpenAIChatCompletion(model, azureEndpoint, apiKey);\n"
   ]
  },
  {
   "cell_type": "code",
   "execution_count": 24,
   "metadata": {
    "dotnet_interactive": {
     "language": "csharp"
    },
    "polyglot_notebook": {
     "kernelName": "csharp"
    },
    "vscode": {
     "languageId": "polyglot-notebook"
    }
   },
   "outputs": [
    {
     "data": {
      "text/html": [
       "<div><div></div><div></div><div><strong>Installed Packages</strong><ul><li><span>Microsoft.SemanticKernel.Connectors.InMemory, 1.33.0-preview</span></li></ul></div></div>"
      ]
     },
     "metadata": {},
     "output_type": "display_data"
    }
   ],
   "source": [
    "#r \"nuget: Microsoft.SemanticKernel.Connectors.InMemory, 1.33.0-preview\""
   ]
  },
  {
   "cell_type": "code",
   "execution_count": 25,
   "metadata": {
    "dotnet_interactive": {
     "language": "csharp"
    },
    "polyglot_notebook": {
     "kernelName": "csharp"
    },
    "vscode": {
     "languageId": "polyglot-notebook"
    }
   },
   "outputs": [],
   "source": [
    "using Microsoft.Extensions.VectorData;\n",
    "public sealed class KnowledgeBaseSnippet\n",
    "{\n",
    "    [VectorStoreRecordKey]\n",
    "    public required string Key { get; set; }\n",
    "\n",
    "    [VectorStoreRecordData]\n",
    "    public string? Text { get; set; }\n",
    "\n",
    "    [VectorStoreRecordData]\n",
    "    public string? ReferenceDescription { get; set; }\n",
    "\n",
    "    [VectorStoreRecordData]\n",
    "    public string? ReferenceLink { get; set; }\n",
    "\n",
    "    [VectorStoreRecordVector(1536)]\n",
    "    public ReadOnlyMemory<float> TextEmbedding { get; set; }\n",
    "}"
   ]
  },
  {
   "cell_type": "code",
   "execution_count": 26,
   "metadata": {
    "dotnet_interactive": {
     "language": "csharp"
    },
    "polyglot_notebook": {
     "kernelName": "csharp"
    },
    "vscode": {
     "languageId": "polyglot-notebook"
    }
   },
   "outputs": [],
   "source": [
    "string collectionName = \"MyKnowledgebase\";\n",
    "string rootPath = \"knowledgebase\";"
   ]
  },
  {
   "cell_type": "code",
   "execution_count": 34,
   "metadata": {
    "dotnet_interactive": {
     "language": "csharp"
    },
    "polyglot_notebook": {
     "kernelName": "csharp"
    },
    "vscode": {
     "languageId": "polyglot-notebook"
    }
   },
   "outputs": [],
   "source": [
    "using Microsoft.SemanticKernel.Connectors.InMemory;\n",
    "using Microsoft.SemanticKernel.Data;\n",
    "#pragma warning disable SKEXP0020\n",
    "#pragma warning disable SKEXP0001\n",
    "#pragma warning disable SKEXP0010\n",
    "\n",
    "// Define vector store\n",
    "var vectorStore = new InMemoryVectorStore();\n",
    "\n",
    "builder\n",
    "    .AddAzureOpenAITextEmbeddingGeneration(\n",
    "        \"text-embedding-ada-002\",\n",
    "        embeddingEndpoint,\n",
    "        embeddingApiKey\n",
    "    )\n",
    "    .AddInMemoryVectorStore()\n",
    "    .AddInMemoryVectorStoreRecordCollection<string, KnowledgeBaseSnippet>(collectionName)\n",
    "    .AddVectorStoreTextSearch<KnowledgeBaseSnippet>(\n",
    "        new TextSearchStringMapper((result) => (result as KnowledgeBaseSnippet)!.Text!),\n",
    "        new TextSearchResultMapper((result) =>\n",
    "        {\n",
    "            // Create a mapping from the Vector Store data type to the data type returned by the Text Search.\n",
    "            // This text search will ultimately be used in a plugin and this TextSearchResult will be returned to the prompt template\n",
    "            // when the plugin is invoked from the prompt template.\n",
    "            var castResult = result as KnowledgeBaseSnippet;\n",
    "            return new TextSearchResult(value: castResult!.Text!) { Name = castResult.ReferenceDescription, Link = castResult.ReferenceLink };\n",
    "        }));"
   ]
  },
  {
   "cell_type": "code",
   "execution_count": 35,
   "metadata": {
    "dotnet_interactive": {
     "language": "csharp"
    },
    "polyglot_notebook": {
     "kernelName": "csharp"
    },
    "vscode": {
     "languageId": "polyglot-notebook"
    }
   },
   "outputs": [],
   "source": [
    "var kernel = builder.Build();"
   ]
  },
  {
   "cell_type": "code",
   "execution_count": 37,
   "metadata": {
    "dotnet_interactive": {
     "language": "csharp"
    },
    "polyglot_notebook": {
     "kernelName": "csharp"
    },
    "vscode": {
     "languageId": "polyglot-notebook"
    }
   },
   "outputs": [],
   "source": [
    "using Microsoft.SemanticKernel.Data;\n",
    "using Microsoft.SemanticKernel.Embeddings;\n",
    "#pragma warning disable SKEXP0001\n",
    "\n",
    "var vectorStoreRecordCollection = kernel.GetRequiredService<IVectorStoreRecordCollection<string, KnowledgeBaseSnippet>>();\n",
    "var textEmbeddingGenerationService = kernel.GetRequiredService<ITextEmbeddingGenerationService>();\n",
    "var vectorStoreTextSearch = kernel.GetRequiredService<VectorStoreTextSearch<KnowledgeBaseSnippet>>();"
   ]
  },
  {
   "cell_type": "code",
   "execution_count": 38,
   "metadata": {
    "dotnet_interactive": {
     "language": "csharp"
    },
    "polyglot_notebook": {
     "kernelName": "csharp"
    },
    "vscode": {
     "languageId": "polyglot-notebook"
    }
   },
   "outputs": [
    {
     "data": {
      "text/html": [
       "<div class=\"dni-plaintext\"><pre>[ -0.0026431093, -0.0061312397, -0.0068117715, -0.032820355, -0.00452828, 0.00393483, -0.021415796, -0.008521165, -0.0017368082, -0.022718806, 0.03279455, 0.009024307, -0.017455164, -0.015597409, 0.013713851, 0.009217824, 0.02693746, -0.009398439, 0.0059764264, 0.0095661525 ... (1516 more) ]</pre></div><style>\r\n",
       ".dni-code-hint {\r\n",
       "    font-style: italic;\r\n",
       "    overflow: hidden;\r\n",
       "    white-space: nowrap;\r\n",
       "}\r\n",
       ".dni-treeview {\r\n",
       "    white-space: nowrap;\r\n",
       "}\r\n",
       ".dni-treeview td {\r\n",
       "    vertical-align: top;\r\n",
       "    text-align: start;\r\n",
       "}\r\n",
       "details.dni-treeview {\r\n",
       "    padding-left: 1em;\r\n",
       "}\r\n",
       "table td {\r\n",
       "    text-align: start;\r\n",
       "}\r\n",
       "table tr { \r\n",
       "    vertical-align: top; \r\n",
       "    margin: 0em 0px;\r\n",
       "}\r\n",
       "table tr td pre \r\n",
       "{ \r\n",
       "    vertical-align: top !important; \r\n",
       "    margin: 0em 0px !important;\r\n",
       "} \r\n",
       "table th {\r\n",
       "    text-align: start;\r\n",
       "}\r\n",
       "</style>"
      ]
     },
     "metadata": {},
     "output_type": "display_data"
    }
   ],
   "source": [
    "var embedding = await textEmbeddingGenerationService.GenerateEmbeddingAsync(\"Hello, World!\");\n",
    "embedding"
   ]
  },
  {
   "cell_type": "code",
   "execution_count": 39,
   "metadata": {
    "dotnet_interactive": {
     "language": "csharp"
    },
    "polyglot_notebook": {
     "kernelName": "csharp"
    },
    "vscode": {
     "languageId": "polyglot-notebook"
    }
   },
   "outputs": [],
   "source": [
    "await vectorStoreRecordCollection.CreateCollectionIfNotExistsAsync(System.Threading.CancellationToken.None);\n"
   ]
  },
  {
   "cell_type": "code",
   "execution_count": 41,
   "metadata": {
    "dotnet_interactive": {
     "language": "csharp"
    },
    "polyglot_notebook": {
     "kernelName": "csharp"
    },
    "vscode": {
     "languageId": "polyglot-notebook"
    }
   },
   "outputs": [
    {
     "name": "stdout",
     "output_type": "stream",
     "text": [
      "Upserted record for knowledgebase\\ingress-certificate-expired-warning-troubleshooting.md with key: System.Threading.Tasks.Task`1[System.String]\n",
      "Upserted record for knowledgebase\\ingress-certificate-expired-warning.md with key: System.Threading.Tasks.Task`1[System.String]\n",
      "Upserted record for knowledgebase\\k8s-pod-crashloopbackoff.md with key: System.Threading.Tasks.Task`1[System.String]\n"
     ]
    }
   ],
   "source": [
    "var markdownFiles = Directory.GetFiles(rootPath, \"*.md\", SearchOption.AllDirectories);\n",
    "foreach (var markdownFile in markdownFiles)\n",
    "{\n",
    "    var text = File.ReadAllText(markdownFile);\n",
    "    var embedding = await textEmbeddingGenerationService.GenerateEmbeddingAsync(text);\n",
    "    var kbRecord = new KnowledgeBaseSnippet\n",
    "    {\n",
    "        Key = Guid.NewGuid().ToString(),\n",
    "        Text = text,\n",
    "        ReferenceDescription = $\"{new FileInfo(markdownFile).Name}\",\n",
    "        ReferenceLink = $\"{new Uri(new FileInfo(markdownFile).FullName).AbsoluteUri}\",\n",
    "        TextEmbedding = embedding\n",
    "    };\n",
    "    var key = vectorStoreRecordCollection.UpsertAsync(kbRecord);\n",
    "    Console.WriteLine($\"Upserted record for {markdownFile} with key: {key}\");\n",
    "\n",
    "}"
   ]
  },
  {
   "cell_type": "code",
   "execution_count": 44,
   "metadata": {
    "vscode": {
     "languageId": "polyglot-notebook"
    }
   },
   "outputs": [
    {
     "name": "stdout",
     "output_type": "stream",
     "text": [
      "Result: ingress-certificate-expired-warning.md - file:///c:/Users/tamirdresher/source/repos/td-semantic-kernel-intro/notebooks/knowledgebase/ingress-certificate-expired-warning.md\n",
      "# Resolving `IngressCertificateExpiredWarning` in Kubernetes\n",
      "\n",
      "## Issue\n",
      "The `IngressCertificateExpiredWarning` alert indicates that a TLS certificate used by an Ingress resource is expired or nearing expiration. This can cause HTTPS traffic to fail.\n",
      "\n",
      "## Causes\n",
      "- Let’s Encrypt or another certificate issuer has not renewed the certificate.\n",
      "- The Kubernetes Certificate Manager (`cert-manager`) is not functioning correctly.\n",
      "- The certificate secret is misconfigured or missing.\n",
      "\n",
      "## Solution\n",
      "\n",
      "### 1. Check Certificate Status\n",
      "Run:\n",
      "```sh\n",
      "kubectl get certificate -A\n",
      "```\n",
      "Look for expired certificates and note the associated `SecretName`.\n",
      "\n",
      "### 2. Check Cert-Manager Logs (if using cert-manager)\n",
      "```sh\n",
      "kubectl logs -n cert-manager deploy/cert-manager\n",
      "```\n",
      "Look for renewal failures.\n",
      "\n",
      "### 3. Manually Renew the Certificate (if needed)\n",
      "Trigger a renewal:\n",
      "```sh\n",
      "kubectl delete certificate <CERT_NAME> -n <NAMESPACE>\n",
      "```\n",
      "Cert-manager should recreate it automatically.\n",
      "\n",
      "### 4. Ensure DNS Configuration\n",
      "If using Let’s Encrypt, check that your DNS records are correctly resolving to your Ingress controller.\n",
      "\n",
      "### 5. Restart Ingress Controller\n",
      "```sh\n",
      "kubectl rollout restart deployment <INGRESS_CONTROLLER>\n",
      "```\n",
      "\n",
      "### 6. Validate New Certificate\n",
      "```sh\n",
      "kubectl get secret <SECRET_NAME> -o jsonpath='{.data.tls\\.crt}' | base64 --decode | openssl x509 -text -noout\n",
      "```\n",
      "Ensure the expiration date is updated.\n",
      "\n",
      "## Prevention\n",
      "- Use cert-manager with auto-renewal.\n",
      "- Set up monitoring for certificate expiration using Prometheus alerts or external tools like `cronjob` with `openssl` checks.\n",
      "\n",
      "-----------------------------------------------------------------\n"
     ]
    }
   ],
   "source": [
    "#pragma warning disable SKEXP0001\n",
    "var results = await vectorStoreTextSearch.GetTextSearchResultsAsync(\"how to solve Warning of Ingress Certificate that was Expired\",searchOptions: new TextSearchOptions() { Top = 1 });\n",
    "await foreach (var result in results.Results)\n",
    "{\n",
    "    Console.WriteLine($\"Result: {result.Name} - {result.Link}\");\n",
    "    Console.WriteLine(result.Value);\n",
    "    Console.WriteLine(\"-----------------------------------------------------------------\");\n",
    "}\n"
   ]
  }
 ],
 "metadata": {
  "kernelspec": {
   "display_name": ".NET (C#)",
   "language": "C#",
   "name": ".net-csharp"
  },
  "language_info": {
   "name": "python"
  },
  "polyglot_notebook": {
   "kernelInfo": {
    "defaultKernelName": "csharp",
    "items": [
     {
      "aliases": [],
      "name": "csharp"
     }
    ]
   }
  }
 },
 "nbformat": 4,
 "nbformat_minor": 2
}
